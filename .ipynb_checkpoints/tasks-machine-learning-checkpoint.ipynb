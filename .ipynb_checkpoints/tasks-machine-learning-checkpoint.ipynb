{
 "cells": [
  {
   "cell_type": "markdown",
   "metadata": {},
   "source": [
    "## Elizabeth Daly \n",
    "## HDip Data Analytics 2020\n",
    "\n",
    "### Machine Learning & Statistics Tasks\n",
    "***"
   ]
  },
  {
   "cell_type": "markdown",
   "metadata": {},
   "source": [
    "## 1: Function to calculate the square root of 2 to 100 decimal places \n",
    "***"
   ]
  },
  {
   "cell_type": "markdown",
   "metadata": {},
   "source": [
    "### Introduction"
   ]
  },
  {
   "cell_type": "markdown",
   "metadata": {},
   "source": [
    "For this task, we have been asked to compute the square root of 2, to 100 decimal places, without using any imported module, or any module from the standard library in Python. There is indeed a math module that could be used to compute $\\sqrt 2$ easily, but we will only use it to provide a comparison with our solution later on [1].\n",
    "Common methods to calculate square roots start by providing an initial guess for the square root, and then iterating through an algorithm to produce a better guess each time through the algorithm [2]. Iteration stops when a required accuracy or tolerance is reached, or when some maximum number of iterations has taken place for slowly-converging algorithms."
   ]
  },
  {
   "cell_type": "markdown",
   "metadata": {},
   "source": [
    "### Newton's method"
   ]
  },
  {
   "cell_type": "markdown",
   "metadata": {},
   "source": [
    "Newton's method is a very common approach and the one we will use for this task [3, 4, 5]. It can be used to calculate the square root $s$ of a number $x$, where $x \\gt 0$ and $s = \\sqrt x $. Starting with an initial guess for the square root, $s_0$, the algorithm computes a better guess using the formula\n",
    "\n",
    "$$ s_{n+1} = s_n - \\left ( \\frac{s_n^2 - x}{2 s_n} \\right ). $$\n",
    "\n",
    "Here, $s_{n}$ is the previous estimate for the square root and $s_{n+1}$ is the updated/better estimate.\n",
    "\n",
    "With Newton's method, setting the initial guess to be slightly larger than the root will result in slightly faster convergence than a guess that is slightly smaller than the root [2]. I have hard-coded the initial guess ($s_0 = 1$) into my algorithm because we have been asked to calculate the square root of a fixed number, $ x = 2$. In general, the initial guess should be between 1 and the number, and initial guesses closer to the root will converge faster. We already roughly know the answer to this task, $\\sqrt 2 \\approx 1.4$, and so an initial guess anywhere between 1 and 1.4 will work fine. Much more consideration of the initial guess would be required if we had been asked to calculate the square root of *any* number. The further the initial guess is from the actual answer, the more iterations are \"wasted\" just getting to the vicinity of the answer [2]."
   ]
  },
  {
   "cell_type": "code",
   "execution_count": 1,
   "metadata": {},
   "outputs": [],
   "source": [
    "def sqrt2(x = 2, a = 0.0000000001):\n",
    "    \"\"\"\n",
    "    A function to calculate the square root of 2 to a desired accuracy a\n",
    "    using Newton's method\n",
    "    \"\"\"\n",
    "    # We are looking for the square root of 2 so make that the default value for x.\n",
    "    # x = 2\n",
    "    # Provide an initial guess, s, for the square root of 2.\n",
    "    s = 1\n",
    "    # set iteration count = 0\n",
    "    iter = 0\n",
    "    # Loop until desired accuracy reached.\n",
    "    # i.e. Loop if |x-s*s| > required accuracy. Default value set if not provided.\n",
    "    while abs(x - (s * s)) > a:\n",
    "        # Now calculate a better guess for the square root of 2.\n",
    "        s -= (s*s - x) / (2 * s)\n",
    "        # Keep track of number of iterations required to meet desired accuracy.\n",
    "        iter += 1\n",
    "        # print(iter)\n",
    "    # Return the (approximate) square root of 2 and number of iterations.\n",
    "    return s, iter"
   ]
  },
  {
   "cell_type": "markdown",
   "metadata": {},
   "source": [
    "Call the function sqrt2"
   ]
  },
  {
   "cell_type": "code",
   "execution_count": 2,
   "metadata": {},
   "outputs": [],
   "source": [
    "# sqrt2 returns a tuple. \n",
    "# First element = sqrt(2); second = # iterations.\n",
    "# Extract the answer, which is a floating point number.\n",
    "ans = sqrt2()[0]\n",
    "#type(ans)\n",
    "\n",
    "# Extract the # iterations, which is an integer.\n",
    "n = sqrt2()[1]\n",
    "# type(n)"
   ]
  },
  {
   "cell_type": "markdown",
   "metadata": {},
   "source": [
    "Now display the square root of 2 to 100 decimal places. For this we need to use string formatting."
   ]
  },
  {
   "cell_type": "code",
   "execution_count": 3,
   "metadata": {},
   "outputs": [
    {
     "name": "stdout",
     "output_type": "stream",
     "text": [
      "1.4142135623746899\n",
      "Iteration count: 4\n"
     ]
    },
    {
     "data": {
      "text/plain": [
       "'1.4142135623746898698271934335934929549694061279296875000000000000000000000000000000000000000000000000'"
      ]
     },
     "execution_count": 3,
     "metadata": {},
     "output_type": "execute_result"
    }
   ],
   "source": [
    "# Just printing the answer does not provide enough decimal places for this task.  \n",
    "print(ans)\n",
    "\n",
    "print(\"Iteration count:\", n)\n",
    "# Use string formatting to display the correct number of decimal places.\n",
    "format(ans, '.100f')   # give 100 digits after the decimal point\n"
   ]
  },
  {
   "cell_type": "markdown",
   "metadata": {},
   "source": [
    "### A little note about accuracy\n",
    "I'm a tiny bit suspicious of all those zeros at the end of the number. We discussed in week 2 of this module how $\\sqrt 2$ is an irrational number: it cannot be expressed as a ratio of two integers so its decimal expansion never becomes periodic. My algorithm is producing a periodic decimal expansion (repeated zeros), so although it's a very good approximation of $\\sqrt 2$, it is not exactly $\\sqrt 2$. The algorithm takes 4 iterations to converge with tolerance set to 0.0000000001. Newton's method has a quadratic rate of convergence, meaning that the number of correct bits, or decimal places, (n) doubles with each iteration; the required number of iterations is of order $O(\\log_2 n)$ [6]. We have been asked for 100 decimal places, so we would need about $\\log_2 100 \\approx 4.6$ iterations However, the running time of this algorithm scales as $O( n (\\log_2 n )^2)$ [6]. This implies that requiring 100 bits of precision will cause the algorithm to take about 2000 times longer to run than for 10 bits. In the code as written above, some improvement in accuracy can probably be achieved by decreasing tolerance, but it's not the only contributor to the precision of the answer. I might come back to this as I don't want to get bogged down at this stage. The main reason for the rational appearance of $\\sqrt 2$ comes from the fact that computers store numbers and do arithmetic in floating point format [7]. I found a Stack Overflow post that explains this really well using the easy-to-understand example of repeatedly halving a pizza [8]. You can do the halving 53 times before the slice is too small for even a high-precision cutter. At that point, you can no longer halve that very thin slice, but must either include or exclude it as is. So, eventually, when the slices (numbers) get very very small, it becomes impossible to halve each slice exactly, and so errors begin to creep into the process. Numbers in the computer are stored as binary fractions, and most decimal fractions (and especially irrational numbers like $\\sqrt 2$) cannot be expressed as binary fractions. The actual stored value on the computer is the nearest representable binary fraction. It's not a big problem most of the time, as the errors are typically no more than 1 part in $2^{53}$ per operation. This document recommends using the Python decimal module for high-precision applications [9]. Although calculating the $\\sqrt 2$ is not a high-precision application, I will do it here for comparison."
   ]
  },
  {
   "cell_type": "markdown",
   "metadata": {},
   "source": [
    "First, compare this answer to what the Python math module produces [10]."
   ]
  },
  {
   "cell_type": "code",
   "execution_count": 4,
   "metadata": {},
   "outputs": [
    {
     "name": "stdout",
     "output_type": "stream",
     "text": [
      "1.4142135623730951454746218587388284504413604736328125000000000000000000000000000000000000000000000000\n"
     ]
    }
   ],
   "source": [
    "# import the math module  \n",
    "import math  \n",
    "  \n",
    "# print the square root of  0  \n",
    "print(format(math.sqrt(2), '.100f'))\n",
    "\n",
    "# What's the difference?\n",
    "# print(format(math.sqrt(2) - sqrt2()[0], '.100f'))"
   ]
  },
  {
   "cell_type": "markdown",
   "metadata": {},
   "source": [
    "The answer is almost identical to one produced by our algorithm, but not quite. Why? I guess it must be because of floating point errors as the number of decimal places increases. The math module provides access to C library functions - I'm not going to pursue this here, but I wasn't able to find which algorithm is used in the math.sqrt() function. The answer also has a lot of zeros at the end of the number. Clearly this function is also producing only an approximation to the answer because of the way that floating point numbers are stored on the computer. "
   ]
  },
  {
   "cell_type": "markdown",
   "metadata": {},
   "source": [
    "Lastly, look at the Python decimal module for another comparison [11]. The answer looks \"better\" in that it doesn't end with repeated patterns of numbers. However, no matter how many numbers of precision I specify (I tried up to 10000), it never produces a number that looks rational to the eye anyway. Hence, I suppose, supporting the notion that $\\sqrt 2$ is irrational. "
   ]
  },
  {
   "cell_type": "code",
   "execution_count": 5,
   "metadata": {},
   "outputs": [
    {
     "data": {
      "text/plain": [
       "Decimal('1.414213562373095048801688724209698078569671875376948073176679737990732478462107038850387534327641573')"
      ]
     },
     "execution_count": 5,
     "metadata": {},
     "output_type": "execute_result"
    }
   ],
   "source": [
    "from decimal import *\n",
    "getcontext().prec = 100 # Can try other numbers here\n",
    "Decimal(2).sqrt()"
   ]
  },
  {
   "cell_type": "markdown",
   "metadata": {},
   "source": [
    "### Are any of these answers correct?"
   ]
  },
  {
   "cell_type": "markdown",
   "metadata": {},
   "source": [
    "The correct answer for $\\sqrt 2$ can be found in Sequence A002193 in the On-Line Encyclopedia of Integer Sequences, which is linked to in [12]. The correct value, to 65 decimal places is shown in the snip below. \n",
    "- Our sqrt2 algorithm above produces $\\sqrt 2 = \\mathbf{1.41421\\: 35623\\: 7}4689\\: 86982 ...$ Here I have highlighted in bold the digits which are considered to be accurate for four iterations of our algorithm [12].\n",
    "- The Python math module produces $\\sqrt 2 = 1.41421\\: 35623\\: 73095\\: 14547 ...$. I have no idea how many of these digits are accurate as I don't know the details of the algorithm used. However, I'll guess that more of them are accurate than our own algorithm as they match with the actual answer below for 15 decimal places.\n",
    "- The Python decimal module produces $\\sqrt 2 = 1.41421\\: 35623\\: 73095\\: 04880\\: 16887\\: 24209\\: 69807\\: 85696\\: 71875\\: 37694\\: 80731\\: 76679\\: 73799\\: ...$"
   ]
  },
  {
   "cell_type": "markdown",
   "metadata": {},
   "source": [
    "<img src=\"img/sqrt2.JPG\">"
   ]
  },
  {
   "cell_type": "markdown",
   "metadata": {},
   "source": [
    "So our own algorithm is correct to 11 decimal places, the math module to 15 decimal places, and the decimal module produces an answer that is correct to at least 65 decimal places."
   ]
  },
  {
   "cell_type": "markdown",
   "metadata": {},
   "source": [
    "### Conclusion for Task 1\n",
    "Completing this task forced me to think about floating point errors more than I ever had before. The easy part was coding the algorithm to find $\\sqrt 2$. The more difficult part was coming to the realization that, even if the tolerance for convergence is very small, it doesn't make the answer more precise. In fact, all it does is force the algorithm to take a very long time to produce an estimate for $\\sqrt 2$. I imported some modules purely so that I could compare my answer with other methods. The Python math.sqrt() function produces a slightly better estimate for $\\sqrt 2$, while the decimal module produces the most digits of precision. The conclusion must be that floating point errors might sometimes be a factor to consider when doing calculations on a computer with very small numbers or where high precision is required."
   ]
  },
  {
   "cell_type": "markdown",
   "metadata": {},
   "source": [
    "### References for Task 1\n",
    "[1] The Python Standard Library; Numeric and Mathematical Modules; https://docs.python.org/3/library/math.html\n",
    "\n",
    "[2] Methods of computing square roots; Wikipedia; https://en.wikipedia.org/wiki/Methods_of_computing_square_roots\n",
    "\n",
    "[3] Exercise: Loops and Functions: A Tour of Go; https://tour.golang.org/flowcontrol/8\n",
    "\n",
    "[4] Newton's Method; Mathematical Python; https://www.math.ubc.ca/~pwalls/math-python/roots-optimization/newton/\n",
    "\n",
    "[5] S. G. Johnson, MIT Course 18.335, February 4, 2015; Square Roots via Newton’s Method; https://math.mit.edu/~stevenj/18.335/newton-sqrt.pdf\n",
    "\n",
    "[6] Arbitrary precision integer square root algorithm?; StackExchange Computer Science; https://cs.stackexchange.com/questions/37596/arbitrary-precision-integer-square-root-algorithm\n",
    "\n",
    "[7] Floating Point Arithmetic: Issues and Limitations; The Python Tutorial; https://docs.python.org/3/tutorial/floatingpoint.html\n",
    "\n",
    "[8] Is floating point math broken?; Stack Overflow; https://stackoverflow.com/questions/588004/is-floating-point-math-broken\n",
    "\n",
    "[9] how can i show an irrational number to 100 decimal places in python?; Stack Overflow;\n",
    "https://stackoverflow.com/questions/4733173/how-can-i-show-an-irrational-number-to-100-decimal-places-in-python\n",
    "\n",
    "[10] math — Mathematical functions; The Python Standard Library; https://docs.python.org/3/library/math.html\n",
    "\n",
    "[11] decimal — Decimal fixed point and floating point arithmetic; The Python Standard Library; https://docs.python.org/3/library/decimal.html\n",
    "\n",
    "[12] Square root of 2; Wikipedia; https://en.wikipedia.org/wiki/Square_root_of_2 (Accessed 1 Nov. 2020)."
   ]
  },
  {
   "cell_type": "markdown",
   "metadata": {},
   "source": [
    "## 2: The Chi-squared statistical test for independence\n",
    "***"
   ]
  },
  {
   "cell_type": "markdown",
   "metadata": {},
   "source": [
    "### Introduction\n",
    "For this task we have been asked to verify the Chi-squared test statistic for data presented on a Wikipedia page [wiki chi2]. The data is presented in the form of a **contingency table**: a frequency distribution table used to summarize the relationship between several categorical variables [stathow]. Recall that a categorical variable is one that has two or more categories, but there is no intrinsic ordering to the categories [catv]. A typical example might be gender, which has two possible values (traditionally anyway) of male and female. The Chi-squared test can be carried out on a contingency table to check if there is any relationship between the categorical variables. It does so by comparing the observed frequencies of each variable with what we would expect if the variables were actually independent of one another [ssChi2]."
   ]
  },
  {
   "cell_type": "markdown",
   "metadata": {},
   "source": [
    "### The Chi-squared test\n",
    "The table we must analyze presents two categorical variables: Occupation, with possible values [White collar, Blue collar, No collar] and Neighborhood, with possible values [A, B, C, D]. Each row of the table corresponds to an occupation and each column corresponds to a neighborhood. The numbers in each cell contain the observed frequencies, corresponding to the intersection of two variable values. We will check if there is any relationship between occupation and neighborhood of residence in the data presented. Imagine a city of 1,000,000 residents with four neighborhoods: [A, B, C, and D]. A random sample of 650 residents of the city is taken and their occupation is recorded as [White collar, Blue collar, or No collar]. The data are summarized below. The null hypothesis for this test is that a person's neighborhood of residence is independent of their occupation. We will test the null hypothesis. In order to do so we must perform some calculations."
   ]
  },
  {
   "cell_type": "markdown",
   "metadata": {},
   "source": [
    "<img src=\"img/contingency.JPG\">"
   ]
  },
  {
   "cell_type": "markdown",
   "metadata": {},
   "source": [
    "Let's do some of the required calculations by hand. We want to calculate the expected frequency in each cell of the table, assuming that the null hypothesis is true and the variables are indeed independent.\n",
    "\n",
    "For row 1, column 1:\n",
    "- The observed value (o = 90) is the number of people who live in Neighborhood A and whose occupation is White collar.\n",
    "- Use the sample living in neighborhood A (total for column A = 150) to estimate what proportion of the total 1,000,000 live in A. \n",
    "- Use the sample which are White collar (total for row White collar = 349) to estimate what proportion of the total 1,000,000 are White collar.\n",
    "- If neighborhood and occupation are independent of each other (the null hypothesis holds true), the expected proportion of the total 1,000,000 who are White collar and live in neighborhood A is given by:\n",
    "$e = 150 x \\frac{349}{650} \\approx 80.54$\n",
    "- For that cell of the table (row 1, col 1) we calculate the Chi-square squared statistic as follows:\n",
    "$\\frac {(o - e)^2} {e} = \\frac {(90 - 80.54)^2}{80.54} \\approx 1.11$, where o and e are the observed and expected values respectively.\n",
    "\n",
    "For row 3, column 3:\n",
    "- The observed value (o = 45) is the number of people who live in Neighborhood C and whose occupation is No collar.\n",
    "- The total for column C (200) is an estimate of the proportion of the total 1,000,000 who live in C (200).\n",
    "- Use the sample which are No collar (total for row No collar = 150) to estimate what proportion of the total 1,000,000 are No collar.\n",
    "- Once again, if neighborhood and occupation are independent (the null hypothesis holds true), we expect the proportion of the total 1,000,000 which are No collar and live in neighborhood C to be given by:\n",
    "- $e = 200 x \\frac{150}{650} \\approx 46.15$\n",
    "- For that cell of the table (row 3, col 3) we calculate the Chi-squared statistic as follows:\n",
    "$\\frac {(o - e)^2} {e} = \\frac {(45 - 46.15)^2}{46.15} \\approx 0.03$\n",
    "\n",
    "This quantity is calculated for every cell of the table. The sum over all cells is the test statistic. This sum has approximately a chi-squared distribution whose number of degrees of freedom (dof) is given by:\n",
    "\n",
    "dof = (# rows -1)(# columns -1) = (3 -1)(4 -1) = 2 x 3 = 6.\n",
    "\n",
    "The test statistic is evaluated by comparing it against some critical value in this Chi-squared distribution. Alternatively, one can examine the p-value for the test, usually 0.05 blah blah [pval]. "
   ]
  },
  {
   "cell_type": "markdown",
   "metadata": {},
   "source": [
    "Maybe a plot of chi squared here? [numpy]"
   ]
  },
  {
   "cell_type": "markdown",
   "metadata": {},
   "source": [
    "### Import required packages"
   ]
  },
  {
   "cell_type": "code",
   "execution_count": 6,
   "metadata": {},
   "outputs": [],
   "source": [
    "# For statistics\n",
    "import scipy.stats as ss\n",
    "# For plotting\n",
    "import matplotlib.pyplot as plt\n",
    "# For arrays\n",
    "import numpy as np"
   ]
  },
  {
   "cell_type": "markdown",
   "metadata": {},
   "source": [
    "Fortunately we can use SciPy.stats to perform the calculations for us [scipystats]."
   ]
  },
  {
   "cell_type": "markdown",
   "metadata": {},
   "source": [
    "- Two categorical variables: occupation and neighborhood\n",
    "- Contingency table used to summarize the categorical variables\n",
    "- occupation = rows, neighborhood = columns\n",
    "\n",
    "- We want to check if they are independent. That is, ask \"Does a person's neighborhood depend on their occupation?\"\n",
    "- variables are considered independent if the observed and expected frequencies are similar..more here\n",
    "- H0 = Null Hypothesis: A person's neighborhood is independent of their occupation\n",
    "- dof = (r-1)(c-1) = (3-1)(4-1) = (2)(3) = 6 r = #rows in contingency table, c = # columns\n",
    "- IF p-value <= alpha: significant result, reject null hypothesis (H0), dependent.\n",
    "- IF p-value > alpha: not significant result, fail to reject null hypothesis (H0), independent\n",
    "- How to pick alpha? 5% alpha = 0.05"
   ]
  },
  {
   "cell_type": "code",
   "execution_count": 7,
   "metadata": {},
   "outputs": [
    {
     "name": "stdout",
     "output_type": "stream",
     "text": [
      "[[90, 60, 104, 95], [30, 50, 51, 20], [30, 40, 45, 35]]\n",
      "dof=6\n",
      "[[ 80.53846154  80.53846154 107.38461538  80.53846154]\n",
      " [ 34.84615385  34.84615385  46.46153846  34.84615385]\n",
      " [ 34.61538462  34.61538462  46.15384615  34.61538462]]\n",
      "p-value = 0.00041\n",
      "probability=0.950, critical=12.592, stat=24.571\n"
     ]
    }
   ],
   "source": [
    "# Create the contingency table for our example\n",
    "white = [90, 60, 104, 95] # Row 1 of the table\n",
    "blue = [30, 50, 51, 20] # Row 2 of the table\n",
    "none = [30, 40, 45, 35] # Row 3 of the table\n",
    "Ctable = [white, blue, none]\n",
    "print(Ctable)\n",
    "\n",
    "stat, p, dof, expected = ss.chi2_contingency(Ctable)\n",
    "print('dof=%d' % dof)\n",
    "print(expected)\n",
    "print(f'p-value = {p:.5f}')\n",
    "\n",
    "# Same critical probability as t-test?\n",
    "prob = 0.95\n",
    "critical = ss.chi2.ppf(prob, dof)\n",
    "print('probability=%.3f, critical=%.3f, stat=%.3f' % (prob, critical, stat))"
   ]
  },
  {
   "cell_type": "markdown",
   "metadata": {},
   "source": [
    "p-value < 0.05 so must reject H0. Therefore the categorical variables are not independent.So, neighborhood is dependent in some part on occupation."
   ]
  },
  {
   "cell_type": "markdown",
   "metadata": {},
   "source": [
    "### Conclusion for Task 2\n",
    "- What are Chi-squared tests used for in ML? To check if there is a relationship between an input feature and the expected output - so for feature selection if there are lots of features. In classification: can be used to discard irrelevant input variables. "
   ]
  },
  {
   "cell_type": "markdown",
   "metadata": {},
   "source": [
    "### References for Task 2\n",
    "[wiki chi2] Wikipedia; Chi-squared test; https://en.wikipedia.org/wiki/Chi-squared_test (Accessed 1 Nov. 2020).\n",
    "\n",
    "[MLM] A Gentle Introduction to the Chi-Squared Test for Machine Learning; Machine Learning Mastery; https://machinelearningmastery.com/chi-squared-test-for-machine-learning/ (Accessed 6 Nov. 2020).\n",
    "\n",
    "[stathow] Stephanie Glen, *Contingency Table: What is it used for?*, From StatisticsHowTo.com: Elementary Statistics for the rest of us!, https://www.statisticshowto.com/what-is-a-contingency-table/, (Accessed 9 Nov. 2020).\n",
    "\n",
    "[catv] What is the Difference Between Categorical, Ordinal and Numerical Variables?, UCLA: Statistical Consulting Group, https://stats.idre.ucla.edu/other/mult-pkg/whatstat/what-is-the-difference-between-categorical-ordinal-and-numerical-variables/, (Accessed 9 Nov. 2020).\n",
    "\n",
    "[ssChi2] Using Chi-Square Statistic in Research, Statistics Solutions, https://www.statisticssolutions.com/using-chi-square-statistic-in-research/ (Accessed 10 Nov. 2020).\n",
    "\n",
    "[pval] What a p-Value Tells You about Statistical Data, dummies.com/, https://www.dummies.com/education/math/statistics/what-a-p-value-tells-you-about-statistical-data/ (Accessed 10 Nov. 2020)\n",
    "\n",
    "[numpy] NumPy; numpy.random.chisquare; https://numpy.org/doc/stable/reference/random/generated/numpy.random.chisquare.html,  (Accessed Nov. 2020).\n",
    "\n",
    "[scipystats] Statistical functions (scipy.stats), SciPy, https://docs.scipy.org/doc/scipy/reference/stats.html, (Accessed Nov. 2020)."
   ]
  },
  {
   "cell_type": "markdown",
   "metadata": {},
   "source": [
    "To do:\n",
    "- explain chi-square\n",
    "- how is it relevant to ML?\n",
    "- explain our data\n",
    "- relate to wikipedia page the expected/observed table.\n",
    "- explain result\n",
    "- more refs."
   ]
  },
  {
   "cell_type": "code",
   "execution_count": 8,
   "metadata": {},
   "outputs": [
    {
     "data": {
      "text/plain": [
       "0.02865655471289267"
      ]
     },
     "execution_count": 8,
     "metadata": {},
     "output_type": "execute_result"
    }
   ],
   "source": [
    "test = (45 - 46.15)**2 /46.15\n",
    "test"
   ]
  },
  {
   "cell_type": "code",
   "execution_count": null,
   "metadata": {},
   "outputs": [],
   "source": []
  }
 ],
 "metadata": {
  "kernelspec": {
   "display_name": "Python 3",
   "language": "python",
   "name": "python3"
  },
  "language_info": {
   "codemirror_mode": {
    "name": "ipython",
    "version": 3
   },
   "file_extension": ".py",
   "mimetype": "text/x-python",
   "name": "python",
   "nbconvert_exporter": "python",
   "pygments_lexer": "ipython3",
   "version": "3.8.3"
  }
 },
 "nbformat": 4,
 "nbformat_minor": 4
}
