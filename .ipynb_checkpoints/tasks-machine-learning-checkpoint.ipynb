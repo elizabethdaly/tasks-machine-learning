{
 "cells": [
  {
   "cell_type": "markdown",
   "metadata": {},
   "source": [
    "## Elizabeth Daly \n",
    "## HDip Data Analytics 2020\n",
    "\n",
    "### Machine Learning & Statistics Tasks\n",
    "***"
   ]
  },
  {
   "cell_type": "markdown",
   "metadata": {},
   "source": [
    "## 1: Function to calculate the square root of 2 to 100 decimal places "
   ]
  },
  {
   "cell_type": "markdown",
   "metadata": {},
   "source": [
    "For this task, we have been asked to compute the square root of 2 without using any imported module or any module from the standard library in Python. There is a math module which could be used to complete this task easily, but we will only use it to compare answers later on."
   ]
  },
  {
   "cell_type": "code",
   "execution_count": 26,
   "metadata": {},
   "outputs": [],
   "source": [
    "def sqrt2(a = 0.0000000001):\n",
    "    \"\"\"\n",
    "    A function to calculate the square root of 2 to a desired accuracy a\n",
    "    using Newton's method\n",
    "    \"\"\"\n",
    "    # We are looking for the square root of 2.\n",
    "    x = 2\n",
    "    # Provide an initial guess, s, for the square root of 2.\n",
    "    s = x / 2\n",
    "    # set iteration count = 0\n",
    "    iter = 0\n",
    "    # Loop until desired accuracy reached.\n",
    "    # i.e. Loop if |x-s*s| > required accuracy\n",
    "    while abs(x - (s * s)) > a:\n",
    "        # Now calculate a better guess for the square root of 2.\n",
    "        s -= (s*s - x) / (2 * s)\n",
    "        # Keep track of number of iterations required to meet desired accuracy.\n",
    "        iter += 1\n",
    "        # print(iter)\n",
    "    # Return the (approximate) square root of 2 and number of iterations.\n",
    "    return s, iter"
   ]
  },
  {
   "cell_type": "markdown",
   "metadata": {},
   "source": [
    "Call the function sqrt2"
   ]
  },
  {
   "cell_type": "code",
   "execution_count": 27,
   "metadata": {},
   "outputs": [],
   "source": [
    "# sqrt2 returns a tuple. \n",
    "# First element = sqrt(2); second = # iterations.\n",
    "# Extract the answer, which is a floating point number.\n",
    "ans = sqrt2()[0]\n",
    "#type(ans)\n",
    "\n",
    "# Extract the # iterations, which is an integer.\n",
    "n = sqrt2()[1]\n",
    "# type(n)"
   ]
  },
  {
   "cell_type": "markdown",
   "metadata": {},
   "source": [
    "Now display the square root of 2 to 100 decimal places"
   ]
  },
  {
   "cell_type": "code",
   "execution_count": 30,
   "metadata": {},
   "outputs": [
    {
     "data": {
      "text/plain": [
       "'1.4142135623746898698271934335934929549694061279296875000000000000000000000000000000000000000000000000'"
      ]
     },
     "execution_count": 30,
     "metadata": {},
     "output_type": "execute_result"
    }
   ],
   "source": [
    "# Just printing the answer does not provide enough decimal places for this task.  \n",
    "# print(ans)\n",
    "\n",
    "# Use string formatting to display the correct number of decimal places.\n",
    "format(ans, '.100f')   # give 100 digits after the decimal point"
   ]
  },
  {
   "cell_type": "markdown",
   "metadata": {},
   "source": [
    "Compare this answer to what the Python math module produces. The answer is almost identical, but not quite. Why? Tolerance?"
   ]
  },
  {
   "cell_type": "code",
   "execution_count": 36,
   "metadata": {},
   "outputs": [
    {
     "name": "stdout",
     "output_type": "stream",
     "text": [
      "1.4142135623730951454746218587388284504413604736328125000000000000000000000000000000000000000000000000\n"
     ]
    }
   ],
   "source": [
    "# import the math module  \n",
    "import math  \n",
    "  \n",
    "# print the square root of  0  \n",
    "print(format(math.sqrt(2), '.100f'))\n",
    "\n",
    "# What's the difference?\n",
    "# print(format(math.sqrt(2) - sqrt2()[0], '.100f'))"
   ]
  },
  {
   "cell_type": "markdown",
   "metadata": {},
   "source": [
    "### References for Task 1\n",
    "[1] Methods of computing square roots; Wikipedia; https://en.wikipedia.org/wiki/Methods_of_computing_square_roots\n",
    "\n",
    "[2] Exercise: Loops and Functions: A Tour of Go; https://tour.golang.org/flowcontrol/8\n",
    "\n",
    "[3] Newton's Method; Mathematical Python; https://www.math.ubc.ca/~pwalls/math-python/roots-optimization/newton/\n",
    "\n",
    "[4] how can i show an irrational number to 100 decimal places in python?; Stack Overflow;\n",
    "https://stackoverflow.com/questions/4733173/how-can-i-show-an-irrational-number-to-100-decimal-places-in-python\n",
    "\n",
    "[5] Floating Point Arithmetic: Issues and Limitations; The Python Tutorial; https://docs.python.org/3/tutorial/floatingpoint.html\n"
   ]
  },
  {
   "cell_type": "markdown",
   "metadata": {},
   "source": [
    "To do:\n",
    "- write explanation\n",
    "- sync refs"
   ]
  },
  {
   "cell_type": "code",
   "execution_count": null,
   "metadata": {},
   "outputs": [],
   "source": []
  }
 ],
 "metadata": {
  "kernelspec": {
   "display_name": "Python 3",
   "language": "python",
   "name": "python3"
  },
  "language_info": {
   "codemirror_mode": {
    "name": "ipython",
    "version": 3
   },
   "file_extension": ".py",
   "mimetype": "text/x-python",
   "name": "python",
   "nbconvert_exporter": "python",
   "pygments_lexer": "ipython3",
   "version": "3.8.3"
  }
 },
 "nbformat": 4,
 "nbformat_minor": 4
}
