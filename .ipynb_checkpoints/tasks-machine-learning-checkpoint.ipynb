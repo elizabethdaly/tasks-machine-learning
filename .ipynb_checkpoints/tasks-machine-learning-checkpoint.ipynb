{
 "cells": [
  {
   "cell_type": "markdown",
   "metadata": {},
   "source": [
    "## Elizabeth Daly \n",
    "## HDip Data Analytics 2020\n",
    "\n",
    "### Machine Learning & Statistics Tasks\n",
    "***"
   ]
  },
  {
   "cell_type": "markdown",
   "metadata": {},
   "source": [
    "## 1: Function to calculate the square root of 2 to 100 decimal places \n",
    "***"
   ]
  },
  {
   "cell_type": "markdown",
   "metadata": {},
   "source": [
    "### Introduction"
   ]
  },
  {
   "cell_type": "markdown",
   "metadata": {},
   "source": [
    "For this task, we have been asked to compute the square root of 2, to 100 decimal places, without using any imported module, or any module from the standard library in Python. There is indeed a math module that could be used to compute $\\sqrt 2$ easily, but we will only use it to provide a comparison with our solution later on <span style='color:red'> [1] </span>.\n",
    "Common methods to calculate square roots start by providing an initial guess for the square root, and then iterating through an algorithm to produce a better guess each time through the algorithm <span style='color:red'> [2] </span>. Iteration stops when a required accuracy or tolerance is reached, or when some maximum number of iterations has taken place for slowly-converging algorithms."
   ]
  },
  {
   "cell_type": "markdown",
   "metadata": {},
   "source": [
    "### Newton's method"
   ]
  },
  {
   "cell_type": "markdown",
   "metadata": {},
   "source": [
    "Newton's method is a very common approach and the one we will use for this task <span style='color:red'> [3, 4, 5] </span>. It can be used to calculate the square root $s$ of a number $x$, where $x \\gt 0$ and $s = \\sqrt x $. Starting with an initial guess for the square root, $s_0$, the algorithm computes a better guess using the formula\n",
    "\n",
    "$$ s_{n+1} = s_n - \\left ( \\frac{s_n^2 - x}{2 s_n} \\right ). $$\n",
    "\n",
    "Here, $s_{n}$ is the previous estimate for the square root and $s_{n+1}$ is the updated/better estimate.\n",
    "\n",
    "With Newton's method, setting the initial guess to be slightly larger than the root will result in slightly faster convergence than a guess that is slightly smaller than the root <span style='color:red'> [2] </span>. I have hard-coded the initial guess ($s_0 = 1$) into my algorithm because we have been asked to calculate the square root of a fixed number, $ x = 2$. In general, the initial guess should be between 1 and the number, and initial guesses closer to the root will converge faster. We already roughly know the answer to this task, $\\sqrt 2 \\approx 1.4$, and so an initial guess anywhere between 1 and 1.4 will work fine. Much more consideration of the initial guess would be required if we had been asked to calculate the square root of *any* number. The further the initial guess is from the actual answer, the more iterations are \"wasted\" just getting to the vicinity of the answer <span style='color:red'> [2] </span>."
   ]
  },
  {
   "cell_type": "code",
   "execution_count": 1,
   "metadata": {},
   "outputs": [],
   "source": [
    "def sqrt2(x = 2, a = 0.0000000001):\n",
    "    \"\"\"\n",
    "    A function to calculate the square root of 2 to a desired accuracy a\n",
    "    using Newton's method\n",
    "    \"\"\"\n",
    "    # We are looking for the square root of 2 so make that the default value for x.\n",
    "    # x = 2\n",
    "    # Provide an initial guess, s, for the square root of 2.\n",
    "    s = 1\n",
    "    # set iteration count = 0\n",
    "    iter = 0\n",
    "    # Loop until desired accuracy reached.\n",
    "    # i.e. Loop if |x-s*s| > required accuracy. Default value set if not provided.\n",
    "    while abs(x - (s * s)) > a:\n",
    "        # Now calculate a better guess for the square root of 2.\n",
    "        s -= (s*s - x) / (2 * s)\n",
    "        # Keep track of number of iterations required to meet desired accuracy.\n",
    "        iter += 1\n",
    "        # print(iter)\n",
    "    # Return the (approximate) square root of 2 and number of iterations.\n",
    "    return s, iter"
   ]
  },
  {
   "cell_type": "markdown",
   "metadata": {},
   "source": [
    "Call the function sqrt2"
   ]
  },
  {
   "cell_type": "code",
   "execution_count": 2,
   "metadata": {},
   "outputs": [],
   "source": [
    "# sqrt2 returns a tuple. \n",
    "# First element = sqrt(2); second = # iterations.\n",
    "# Extract the answer, which is a floating point number.\n",
    "ans = sqrt2()[0]\n",
    "#type(ans)\n",
    "\n",
    "# Extract the # iterations, which is an integer.\n",
    "n = sqrt2()[1]\n",
    "# type(n)"
   ]
  },
  {
   "cell_type": "markdown",
   "metadata": {},
   "source": [
    "Now display the square root of 2 to 100 decimal places. For this we need to use string formatting."
   ]
  },
  {
   "cell_type": "code",
   "execution_count": 3,
   "metadata": {},
   "outputs": [
    {
     "name": "stdout",
     "output_type": "stream",
     "text": [
      "1.4142135623746899\n",
      "Iteration count: 4\n"
     ]
    },
    {
     "data": {
      "text/plain": [
       "'1.4142135623746898698271934335934929549694061279296875000000000000000000000000000000000000000000000000'"
      ]
     },
     "execution_count": 3,
     "metadata": {},
     "output_type": "execute_result"
    }
   ],
   "source": [
    "# Just printing the answer does not provide enough decimal places for this task.  \n",
    "print(ans)\n",
    "\n",
    "print(\"Iteration count:\", n)\n",
    "# Use string formatting to display the correct number of decimal places.\n",
    "format(ans, '.100f')   # give 100 digits after the decimal point\n"
   ]
  },
  {
   "cell_type": "markdown",
   "metadata": {},
   "source": [
    "### A little note about accuracy\n",
    "I'm a tiny bit suspicious of all those zeros at the end of the number. We discussed in week 2 of this module how $\\sqrt 2$ is an irrational number: it cannot be expressed as a ratio of two integers so its decimal expansion never becomes periodic. My algorithm is producing a periodic decimal expansion (repeated zeros), so although it's a very good approximation of $\\sqrt 2$, it is not exactly $\\sqrt 2$. The algorithm takes 4 iterations to converge with tolerance set to 0.0000000001. Newton's method has a quadratic rate of convergence, meaning that the number of correct bits, or decimal places, (n) doubles with each iteration; the required number of iterations is of order $O(\\log_2 n)$ <span style='color:red'> [6] </span>. We have been asked for 100 decimal places, so we would need about $\\log_2 100 \\approx 4.6$ iterations However, the running time of this algorithm scales as $O( n (\\log_2 n )^2)$ <span style='color:red'> [6] </span>. This implies that requiring 100 bits of precision will cause the algorithm to take about 2000 times longer to run than for 10 bits. In the code as written above, some improvement in accuracy can probably be achieved by decreasing tolerance, but it's not the only contributor to the precision of the answer. I might come back to this as I don't want to get bogged down at this stage. The main reason for the rational appearance of $\\sqrt 2$ comes from the fact that computers store numbers and do arithmetic in floating point format <span style='color:red'> [7] </span>. I found a Stack Overflow post that explains this really well using the easy-to-understand example of repeatedly halving a pizza <span style='color:red'> [8] </span>. You can do the halving 53 times before the slice is too small for even a high-precision cutter. At that point, you can no longer halve that very thin slice, but must either include or exclude it as is. So, eventually, when the slices (numbers) get very very small, it becomes impossible to halve each slice exactly, and so errors begin to creep into the process. Numbers in the computer are stored as binary fractions, and most decimal fractions (and especially irrational numbers like $\\sqrt 2$) cannot be expressed as binary fractions. The actual stored value on the computer is the nearest representable binary fraction. It's not a big problem most of the time, as the errors are typically no more than 1 part in $2^{53}$ per operation. This document recommends using the Python decimal module for high-precision applications <span style='color:red'> [9] </span>. Although calculating the $\\sqrt 2$ is not a high-precision application, I will do it here for comparison."
   ]
  },
  {
   "cell_type": "markdown",
   "metadata": {},
   "source": [
    "First, compare this answer to what the Python math module produces [10]."
   ]
  },
  {
   "cell_type": "code",
   "execution_count": 4,
   "metadata": {},
   "outputs": [
    {
     "name": "stdout",
     "output_type": "stream",
     "text": [
      "1.4142135623730951454746218587388284504413604736328125000000000000000000000000000000000000000000000000\n"
     ]
    }
   ],
   "source": [
    "# import the math module  \n",
    "import math  \n",
    "  \n",
    "# print the square root of  0  \n",
    "print(format(math.sqrt(2), '.100f'))\n",
    "\n",
    "# What's the difference?\n",
    "# print(format(math.sqrt(2) - sqrt2()[0], '.100f'))"
   ]
  },
  {
   "cell_type": "markdown",
   "metadata": {},
   "source": [
    "The answer is almost identical to one produced by our algorithm, but not quite. Why? I guess it must be because of floating point errors as the number of decimal places increases. The math module provides access to C library functions - I'm not going to pursue this here, but I wasn't able to find which algorithm is used in the math.sqrt() function. The answer also has a lot of zeros at the end of the number. Clearly this function is also producing only an approximation to the answer because of the way that floating point numbers are stored on the computer. "
   ]
  },
  {
   "cell_type": "markdown",
   "metadata": {},
   "source": [
    "Lastly, look at the Python decimal module for another comparison <span style='color:red'> [11] </span>. The answer looks \"better\" in that it doesn't end with repeated patterns of numbers. However, no matter how many numbers of precision I specify (I tried up to 10000), it never produces a number that looks rational to the eye anyway. Hence, I suppose, supporting the notion that $\\sqrt 2$ is irrational. "
   ]
  },
  {
   "cell_type": "code",
   "execution_count": 5,
   "metadata": {},
   "outputs": [
    {
     "data": {
      "text/plain": [
       "Decimal('1.414213562373095048801688724209698078569671875376948073176679737990732478462107038850387534327641573')"
      ]
     },
     "execution_count": 5,
     "metadata": {},
     "output_type": "execute_result"
    }
   ],
   "source": [
    "from decimal import *\n",
    "getcontext().prec = 100 # Can try other numbers here\n",
    "Decimal(2).sqrt()"
   ]
  },
  {
   "cell_type": "markdown",
   "metadata": {},
   "source": [
    "### Are any of these answers correct?"
   ]
  },
  {
   "cell_type": "markdown",
   "metadata": {},
   "source": [
    "The correct answer for $\\sqrt 2$ can be found in Sequence A002193 in the On-Line Encyclopedia of Integer Sequences, which is linked to in <span style='color:red'> [12] </span>. The correct value, to 65 decimal places is shown in the snip below. \n",
    "- Our sqrt2 algorithm above produces $\\sqrt 2 = \\mathbf{1.41421\\: 35623\\: 7}4689\\: 86982 ...$ Here I have highlighted in bold the digits which are considered to be accurate for four iterations of our algorithm <span style='color:red'> [12] </span>.\n",
    "- The Python math module produces $\\sqrt 2 = 1.41421\\: 35623\\: 73095\\: 14547 ...$. I have no idea how many of these digits are accurate as I don't know the details of the algorithm used. However, I'll guess that more of them are accurate than our own algorithm as they match with the actual answer below for 15 decimal places.\n",
    "- The Python decimal module produces $\\sqrt 2 = 1.41421\\: 35623\\: 73095\\: 04880\\: 16887\\: 24209\\: 69807\\: 85696\\: 71875\\: 37694\\: 80731\\: 76679\\: 73799\\: ...$"
   ]
  },
  {
   "cell_type": "markdown",
   "metadata": {},
   "source": [
    "<img src=\"img/sqrt2.JPG\">"
   ]
  },
  {
   "cell_type": "markdown",
   "metadata": {},
   "source": [
    "So our own algorithm is correct to 11 decimal places, the math module to 15 decimal places, and the decimal module produces an answer that is correct to at least 65 decimal places."
   ]
  },
  {
   "cell_type": "markdown",
   "metadata": {},
   "source": [
    "### Conclusion for Task 1\n",
    "Completing this task forced me to think about floating point errors more than I ever had before. The easy part was coding the algorithm to find $\\sqrt 2$. The more difficult part was coming to the realization that, even if the tolerance for convergence is very small, it doesn't make the answer more precise. In fact, all it does is force the algorithm to take a very long time to produce an estimate for $\\sqrt 2$. I imported some modules purely so that I could compare my answer with other methods. The Python math.sqrt() function produces a slightly better estimate for $\\sqrt 2$, while the decimal module produces the most digits of precision. The conclusion must be that floating point errors might sometimes be a factor to consider when doing calculations on a computer with very small numbers or where high precision is required."
   ]
  },
  {
   "cell_type": "markdown",
   "metadata": {},
   "source": [
    "### References for Task 1\n",
    "<span style='color:red'> [1] </span> The Python Standard Library; Numeric and Mathematical Modules; https://docs.python.org/3/library/math.html\n",
    "\n",
    "<span style='color:red'> [2] </span> Methods of computing square roots; Wikipedia; https://en.wikipedia.org/wiki/Methods_of_computing_square_roots\n",
    "\n",
    "<span style='color:red'> [3] </span> Exercise: Loops and Functions: A Tour of Go; https://tour.golang.org/flowcontrol/8\n",
    "\n",
    "<span style='color:red'> [4] </span> Newton's Method; Mathematical Python; https://www.math.ubc.ca/~pwalls/math-python/roots-optimization/newton/\n",
    "\n",
    "<span style='color:red'> [5] </span> S. G. Johnson, MIT Course 18.335, February 4, 2015; Square Roots via Newton’s Method; https://math.mit.edu/~stevenj/18.335/newton-sqrt.pdf\n",
    "\n",
    "<span style='color:red'> [6] </span> Arbitrary precision integer square root algorithm?; StackExchange Computer Science; https://cs.stackexchange.com/questions/37596/arbitrary-precision-integer-square-root-algorithm\n",
    "\n",
    "<span style='color:red'> [7] </span> Floating Point Arithmetic: Issues and Limitations; The Python Tutorial; https://docs.python.org/3/tutorial/floatingpoint.html\n",
    "\n",
    "<span style='color:red'> [8] </span> Is floating point math broken?; Stack Overflow; https://stackoverflow.com/questions/588004/is-floating-point-math-broken\n",
    "\n",
    "<span style='color:red'> [9] </span> how can i show an irrational number to 100 decimal places in python?; Stack Overflow;\n",
    "https://stackoverflow.com/questions/4733173/how-can-i-show-an-irrational-number-to-100-decimal-places-in-python\n",
    "\n",
    "<span style='color:red'> [10] </span> math — Mathematical functions; The Python Standard Library; https://docs.python.org/3/library/math.html\n",
    "\n",
    "<span style='color:red'> [11] </span> decimal — Decimal fixed point and floating point arithmetic; The Python Standard Library; https://docs.python.org/3/library/decimal.html\n",
    "\n",
    "<span style='color:red'> [12] </span> Square root of 2; Wikipedia; https://en.wikipedia.org/wiki/Square_root_of_2 (Accessed 1 Nov. 2020)."
   ]
  },
  {
   "cell_type": "markdown",
   "metadata": {},
   "source": [
    "## 2: The Chi-squared statistical test for independence\n",
    "***"
   ]
  },
  {
   "cell_type": "markdown",
   "metadata": {},
   "source": [
    "### Introduction\n",
    "For this task we have been asked to verify the Chi-squared test statistic for data presented on a Wikipedia page <span style='color:green'> [1 wiki chi2] </span>. The data is presented in the form of a **contingency table**: a frequency distribution table used to summarize the relationship between several categorical variables <span style='color:green'> [2 stathow] </span>. Recall that a categorical variable is one that has two or more categories, but there is no intrinsic ordering to the categories <span style='color:green'> [3 catv] </span>. A typical example might be gender, which has two possible values (traditionally anyway) of male and female. The Chi-squared test can be carried out on a contingency table to check if there is any relationship between the categorical variables. It does so by comparing the observed frequencies of each variable with what we would expect if the variables were truly independent of one another <span style='color:green'> [4 ssChi2] </span>. "
   ]
  },
  {
   "cell_type": "markdown",
   "metadata": {},
   "source": [
    "### The Chi-squared test\n",
    "The table we have been asked to analyze presents two categorical variables: Occupation, with possible values [White collar, Blue collar, No collar] and Neighborhood, with possible values [A, B, C, D]. Each row of the table corresponds to an occupation and each column corresponds to a neighborhood. The numbers in each cell contain the observed frequencies, corresponding to the intersection of two variable values. We will use the Chi-squared test of independence to check for a statistically significant relationship between occupation and neighborhood of residence in the data presented. Imagine a city of 1,000,000 residents with four neighborhoods: [A, B, C, and D]. A random sample of 650 residents of the city is taken and their occupation is recorded as [White collar, Blue collar, or No collar]. The data are summarized below. The null hypothesis for this test is that a person's neighborhood of residence is independent of their occupation. In this notebook, we will test the null hypothesis. In order to do so we must perform some calculations."
   ]
  },
  {
   "cell_type": "markdown",
   "metadata": {},
   "source": [
    "<img src=\"img/contingency.JPG\">"
   ]
  },
  {
   "cell_type": "markdown",
   "metadata": {},
   "source": [
    "Let's do some of the required calculations by hand. We want to calculate the expected frequency in each cell of the table, assuming that the null hypothesis is true and the variables are indeed independent.\n",
    "\n",
    "Row 1, column 1:\n",
    "- The observed value (o = 90) is the number of people who live in Neighborhood A and whose occupation is White collar.\n",
    "- Use the sample living in neighborhood A (total for column A = 150) to estimate what proportion of the total 1,000,000 live in A. \n",
    "- Use the sample which are White collar (total for row White collar = 349) to estimate what proportion of the total 1,000,000 are White collar.\n",
    "- If neighborhood and occupation are independent of each other (the null hypothesis holds true), the expected proportion of the total 1,000,000 who are White collar and live in neighborhood A is given by:\n",
    "$e = 150 x \\frac{349}{650} \\approx 80.54$\n",
    "- For that cell of the table (row 1, col 1) we calculate the Chi-square squared statistic as follows:\n",
    "$\\frac {(o - e)^2} {e} = \\frac {(90 - 80.54)^2}{80.54} \\approx 1.11$, where o and e are the observed and expected values, respectively.\n",
    "\n",
    "Row 3, column 3:\n",
    "- The observed value (o = 45) is the number of people who live in Neighborhood C and whose occupation is No collar.\n",
    "- The total for column C (200) is an estimate of the proportion of the total 1,000,000 who live in C.\n",
    "- Use the sample which are No collar (total for row No collar = 150) to estimate what proportion of the total 1,000,000 are No collar.\n",
    "- Once again, if neighborhood and occupation are independent (the null hypothesis holds true), we expect the proportion of the total 1,000,000 which are No collar and live in neighborhood C to be given by:\n",
    "- $e = 200 x \\frac{150}{650} \\approx 46.15$\n",
    "- For that cell of the table (row 3, col 3) we again calculate the Chi-squared statistic:\n",
    "$\\frac {(o - e)^2} {e} = \\frac {(45 - 46.15)^2}{46.15} \\approx 0.03$\n",
    "\n",
    "This quantity is calculated for every cell of the table. The sum over all cells is the test statistic. This test statistic has approximately a Chi-squared distribution whose number of degrees of freedom (dof) is given by:\n",
    "\n",
    "dof = (# rows -1)(# columns -1) = (3 -1)(4 -1) = 2 x 3 = 6.\n",
    "\n",
    "The measured test statistic is evaluated by comparing it against some critical value in this Chi-squared distribution. A simple example is presented in <span style='color:green'> [5 mathfun] </span>. I find it easier to think in terms of probabilities, so I would like to convert this test statistic into a so-called p-value, used to determine the significance of a hypothesis test <span style='color:green'> [6 pval] </span>. The dof and the text statistic are combined to produce a p-value which is compared against a significance level <span style='color:green'> [7 pcalc] </span>. The usual test for significance is a p-value < 0.05: if p < 0.05, the result is significant, we reject the null hypothesis and we cannot assume that the categorical variables are independent. It is possible to chose a lower significance level, meaning that you require more evidence to reject the null hypothesis. More on this later maybe (Type I and Type II errors)."
   ]
  },
  {
   "cell_type": "markdown",
   "metadata": {},
   "source": [
    "### Import required packages"
   ]
  },
  {
   "cell_type": "code",
   "execution_count": 6,
   "metadata": {},
   "outputs": [],
   "source": [
    "# For statistics\n",
    "import scipy.stats as ss\n",
    "# For plotting\n",
    "import matplotlib.pyplot as plt\n",
    "plt.rcParams['figure.figsize'] = (10.0, 8.0) # Make nice big figures\n",
    "# For arrays\n",
    "import numpy as np"
   ]
  },
  {
   "cell_type": "markdown",
   "metadata": {},
   "source": [
    "We can use NumPy to plot the probability density function (pdf) for a Chi-squared distribution with six degrees of freedom <span style='color:green'> [8 numpy] </span>. How can we relate this to our data? Well, the cumulative distribution function (cdf) is the probability that the variable (in our case = the test statistic) takes a value less than or equal to x. The percent point function (ppf) is the inverse of the cdf in percentiles; it returns a discrete value of x that has a given cdf <span style='color:green'> [9 distros] </span>. We'll use it below in our calculations."
   ]
  },
  {
   "cell_type": "code",
   "execution_count": 7,
   "metadata": {},
   "outputs": [
    {
     "data": {
      "text/plain": [
       "<matplotlib.lines.Line2D at 0x1b44d2f8460>"
      ]
     },
     "execution_count": 7,
     "metadata": {},
     "output_type": "execute_result"
    },
    {
     "data": {
      "image/png": "[encoded data removed]",
      "text/plain": [
       "<Figure size 720x576 with 1 Axes>"
      ]
     },
     "metadata": {
      "needs_background": "light"
     },
     "output_type": "display_data"
    }
   ],
   "source": [
    "# Draw 100 samples from a chi-squared distribution with 6 degrees of freedom\n",
    "# np.random.chisquare(6,100)\n",
    "x = np.linspace(0, 30, 60)\n",
    "\n",
    "# Plot probability density fn for chi-squared\n",
    "plt.plot(x, ss.chi2.pdf(x, 6), label=\"dof=6\")\n",
    "# plt.plot(x, ss.chi2.pdf(x, 3), label=\"dof=3\")\n",
    "plt.xlabel('x')\n",
    "plt.ylabel('Probability Density')\n",
    "plt.title('Chi-squared Probability Density Function')\n",
    "plt.grid()\n",
    "plt.legend()\n",
    "# Add this line to show location of critical value and our test statistic after calc.\n",
    "plt.axvline(x=12.592, color='r', linestyle='--')\n",
    "plt.axvline(x=24.571, color='g', linestyle=':')"
   ]
  },
  {
   "cell_type": "code",
   "execution_count": 8,
   "metadata": {},
   "outputs": [
    {
     "data": {
      "image/png": "[encoded data removed]",
      "text/plain": [
       "<Figure size 720x576 with 1 Axes>"
      ]
     },
     "metadata": {
      "needs_background": "light"
     },
     "output_type": "display_data"
    }
   ],
   "source": [
    "# Plot the cumulative distribution function for chi2 with dof=6 over x\n",
    "plt.plot(x, ss.chi2.cdf(x, 6))\n",
    "plt.xlabel('x')\n",
    "plt.ylabel('Probability')\n",
    "plt.title('Cumulative Distribution Function')\n",
    "plt.grid()\n",
    "#plt.axvline(x=12.592, color='r', linestyle='--')"
   ]
  },
  {
   "cell_type": "code",
   "execution_count": 9,
   "metadata": {},
   "outputs": [],
   "source": [
    "# Comment all of this out as can't relate it directly to our analysis below\n",
    "\n",
    "## https://docs.scipy.org/doc/scipy/reference/generated/scipy.stats.chi2.html\n",
    "## Array of probabilities in range 0 - 1\n",
    "#vals = ss.chi2.ppf([0.001, 0.5, 0.999], 6)\n",
    "#print(vals)\n",
    "## NumPy allcose Returns True if two arrays are element-wise equal within a tolerance\n",
    "#np.allclose([0.001, 0.5, 0.999], ss.chi2.cdf(vals, 6))"
   ]
  },
  {
   "cell_type": "markdown",
   "metadata": {},
   "source": [
    "Fortunately we can use the SciPy.stats package to perform all the calculations required to test our null hypothesis <span style='color:green'> [10 scipystats] </span>. Here, I will follow the analysis in <span style='color:green'> [11 MLM] </span> as the author explains very well what is happening."
   ]
  },
  {
   "cell_type": "code",
   "execution_count": 10,
   "metadata": {},
   "outputs": [
    {
     "name": "stdout",
     "output_type": "stream",
     "text": [
      "Contingency Table\n",
      "[[90, 60, 104, 95], [30, 50, 51, 20], [30, 40, 45, 35]]\n",
      "\n",
      "Test statistic = 24.571\n",
      "Degrees of freedom = 6\n",
      "p-value = 0.00041\n",
      "\n",
      "Table of expected frequency values:\n",
      "[[ 80.53846154  80.53846154 107.38461538  80.53846154]\n",
      " [ 34.84615385  34.84615385  46.46153846  34.84615385]\n",
      " [ 34.61538462  34.61538462  46.15384615  34.61538462]]\n",
      "\n",
      "probability = 0.950, critical = 12.592, stat = 24.571\n"
     ]
    }
   ],
   "source": [
    "# Create the contingency table for our example\n",
    "white = [90, 60, 104, 95] # Array containing Row 1 of the table\n",
    "blue = [30, 50, 51, 20] # Row 2 of the table\n",
    "none = [30, 40, 45, 35] # Row 3 of the table\n",
    "Ctable = [white, blue, none]\n",
    "print('Contingency Table')\n",
    "print(Ctable)\n",
    "\n",
    "# Calculate test statistic, p-value, degrees of freedom, and expected values.\n",
    "stat, p, dof, expected = ss.chi2_contingency(Ctable)\n",
    "print('\\nTest statistic = %.3f' % stat)\n",
    "print('Degrees of freedom = %d' % dof)\n",
    "print(f'p-value = {p:.5f}')\n",
    "print('\\nTable of expected frequency values:')\n",
    "print(expected)\n",
    "\n",
    "# Chose a significance level: 5%\n",
    "prob = 0.95\n",
    "\n",
    "# Percent point function (inverse of cdf — percentiles).\n",
    "# Given our chosen significance level (5%), calculate the critical value of the test statistic\n",
    "# using the ppf of a chi2 distribution.\n",
    "critical = ss.chi2.ppf(prob, dof)\n",
    "print('\\nprobability = %.3f, critical = %.3f, stat = %.3f' % (prob, critical, stat))"
   ]
  },
  {
   "cell_type": "markdown",
   "metadata": {},
   "source": [
    "### What do these results mean? \n",
    "1. We chose a significance level of 0.05 for our hypothesis test and our calculated p-value is 0.00041. Recall that the null hypothesis is that there is no relationship between the categorical variables Occupation and Neighborhood. Our p-value < 0.05, so must reject the null hypothesis, and we cannot rule out a relationship between Occupation and Neighborhood. The categorical variables are not independent <span style='color:green'> [12 statJim] </span>.\n",
    "2. Note that we get the same result as above if we feed our test statistic, dof, and significance level (0.05) into an online p-value calculator which reports that \"The P-Value is .000405. The result is significant at p < .05\" <span style='color:green'> [7 pcalc].\n",
    "3. What do our results mean in terms of critical values? It can also be used as a threshold to interpret the results of a statistical test <span style='color:green'> [13 MLM2]. </span> We have calculated a critical value of 12.592 and a test statistic of 24.571. As our calculated test statistic is > the critical value, we must reject the null hypothesis. The critical value is just an alternative to using p-values to test a hypothesis. On our plot of pdf for a Chi-squared distribution above, I have added lines marking the critical value and our test statistic. A value of x (the test statistic) > 12.592 is very unlikely if the null hypothesis holds; therefore we reject it.\n",
    "4. Note that there are certain conditions which must hold for the test to be valid:\n",
    "    - Observed values are obtained by random sampling.\n",
    "    - Variables are categorical.\n",
    "    - The numbers must be large i.e. counts $\\geq 5$ in the table cells (both observed and expected values). Note that I did find references which contained much more precise conditions depending on the table size, particular flavor of test etc., but that level of detail is not required for this task <span style='color:green'> [14 assumeChi2]. </span>"
   ]
  },
  {
   "cell_type": "markdown",
   "metadata": {},
   "source": [
    "### Errors\n",
    "Two types of error are possible with a statistical test <span style='color:green'> [15 minitab, 16 KAsig] </span>: \n",
    "- a Type I error happens when the null hypothesis is actually true but you reject it.\n",
    "- a Type II error happens when the null hypothesis is actually false and you fail to reject it.\n",
    "\n",
    "The probability of making a type I error is equal to the significance level we chose above, p = 0.05. That means that there is a 5% chance we were wrong when we rejected the null hypothesis above. We could reduce the probability of making a type I error by choosing a lower significance level for our test. However, if we do that it becomes more difficult to reject the null hypothesis, leading to type II errors. We can reduce the probability of making a type II error by choosing a higher significance level for our test, making it easier to reject the null hypothesis. However, this will lead to a higher probability of a type I error as just discussed. So the type I and type II errors are playing against each other through the significance level chosen. The important thing is to think carefully about what type of error is most serious, in your particular situation, and to mitigate against it in your choice of significance level. For example, in cancer detection, a missed diagnosis of cancer has far more serious consequences than a false diagnosis. In our data, neither type of error is serious."
   ]
  },
  {
   "cell_type": "markdown",
   "metadata": {},
   "source": [
    "### Conclusion for Task 2\n",
    "- We confirmed that the value of the Chi-squared test statistic for the provided contingency table is 24.571. This corresponds to a p-value of 0.00041 at a significance level of 5%. We therefore reject the null hypothesis that the categorical variables are independent.\n",
    "- In machine learning Chi-squared tests can be used to check for relationships between categorical variables; is the expected output (in a classification application perhaps) dependent on a particular input feature? This can be used for feature selection when there are lots of features available, so that important input features are retained in the model but irrelevant ones are discarded."
   ]
  },
  {
   "cell_type": "markdown",
   "metadata": {},
   "source": [
    "### References for Task 2\n",
    "<span style='color:green'> [1 wiki chi2] </span> Wikipedia; Chi-squared test; https://en.wikipedia.org/wiki/Chi-squared_test (Accessed 1 Nov. 2020).\n",
    "\n",
    "<span style='color:green'> [2 stathow] </span> Stephanie Glen, *Contingency Table: What is it used for?*, From StatisticsHowTo.com: Elementary Statistics for the rest of us!, https://www.statisticshowto.com/what-is-a-contingency-table/, (Accessed 9 Nov. 2020).\n",
    "\n",
    "<span style='color:green'> [3 catv] </span> What is the Difference Between Categorical, Ordinal and Numerical Variables?, UCLA: Statistical Consulting Group, https://stats.idre.ucla.edu/other/mult-pkg/whatstat/what-is-the-difference-between-categorical-ordinal-and-numerical-variables/, (Accessed 9 Nov. 2020).\n",
    "\n",
    "<span style='color:green'> [4 ssChi2] </span> Using Chi-Square Statistic in Research, Statistics Solutions, https://www.statisticssolutions.com/using-chi-square-statistic-in-research/ (Accessed 10 Nov. 2020).\n",
    "\n",
    "<span style='color:green'> [5 mathfun] </span> Chi-Square Test, Math is Fun, https://www.mathsisfun.com/data/chi-square-test.html (Accessed 12 Nov. 2020).\n",
    "\n",
    "<span style='color:green'> [6 pval] </span> What a p-Value Tells You about Statistical Data, dummies.com/, https://www.dummies.com/education/math/statistics/what-a-p-value-tells-you-about-statistical-data/ (Accessed 10 Nov. 2020).\n",
    "\n",
    "<span style='color:green'> [7 pcalc] </span> P Value from Chi-Square Calculator, Social Science Statistics, https://www.socscistatistics.com/pvalues/chidistribution.aspx (accessed 12 Nov. 2020).\n",
    "\n",
    "<span style='color:green'> [8 numpy] </span> NumPy; numpy.random.chisquare; https://numpy.org/doc/stable/reference/random/generated/numpy.random.chisquare.html,  (Accessed Nov. 2020).\n",
    "\n",
    "<span style='color:green'> [9 distros] </span> Distributions, pytoLearn: School of Informatics Aristotle University of Thessaloniki, http://pytolearn.csd.auth.gr/d1-hyptest/11/distros.html (Accessed 16 Nov. 2020).\n",
    "\n",
    "<span style='color:green'> [10 scipystats] </span> Statistical functions (scipy.stats), SciPy, https://docs.scipy.org/doc/scipy/reference/stats.html, (Accessed Nov. 2020).\n",
    "\n",
    "<span style='color:green'> [11 MLM] </span> A Gentle Introduction to the Chi-Squared Test for Machine Learning; Machine Learning Mastery; https://machinelearningmastery.com/chi-squared-test-for-machine-learning/ (Accessed 6 Nov. 2020).\n",
    "\n",
    "<span style='color:green'> [12 statJim] </span> Chi-Square Test of Independence and an Example, Statistics by Jim, https://statisticsbyjim.com/hypothesis-testing/chi-square-test-independence-example/#:~:text=For%20a%20Chi%2Dsquare%20test,exists%20between%20the%20categorical%20variables (Accessed Nov. 2020).\n",
    "\n",
    "<span style='color:green'> [13 MLM2] </span> How to Calculate Critical Values for Statistical Hypothesis Testing with Python, Machine Learning Mastery, https://machinelearningmastery.com/critical-values-for-statistical-hypothesis-testing/ (Accessed Nov. 2020).\n",
    "\n",
    "<span style='color:green'> [14 assumeChi2]. </span> Assumptions/Restrictions for Chi-square Tests on Contingency Tables, Bruce Weaver at LakeHead University CA, https://sites.google.com/a/lakeheadu.ca/bweaver/Home/statistics/notes/chisqr_assumptions (Accessed 17 Nov. 2020).\n",
    "\n",
    "<span style='color:green'> [15 minitab] </span> Minitab Express, What are type I and type II errors?, https://support.minitab.com/en-us/minitab-express/1/help-and-how-to/basic-statistics/inference/supporting-topics/basics/type-i-and-type-ii-error/ (Accessed 17 Nov. 2020).\n",
    "\n",
    "<span style='color:green'> [16 KAsig] </span> Consequences of errors and significance, Khan Academy, https://www.khanacademy.org/math/ap-statistics/tests-significance-ap/error-probabilities-power/a/consequences-errors-significance (Accessed 17 Nov. 2020).\n",
    "\n",
    "Not used. <span style='color:green'> [MLM3] </span> Continuous Probability Distributions for Machine Learning, Machine Learning Mastery, https://machinelearningmastery.com/continuous-probability-distributions-for-machine-learning/#:~:text=The%20probability%20of%20an%20event,or%20equal%20to%20a%20probability. (Accessed 16 Nov. 2020)."
   ]
  },
  {
   "cell_type": "markdown",
   "metadata": {},
   "source": [
    "## 3: Research the difference between Microsoft Excel STDEV.P and STDEV.S functions\n",
    "***"
   ]
  },
  {
   "cell_type": "markdown",
   "metadata": {},
   "source": [
    "### Introduction"
   ]
  },
  {
   "cell_type": "markdown",
   "metadata": {},
   "source": [
    "We have been asked to research the difference between two Microsoft Excel formulae which can be used to calculate the standard deviation of an array of n numbers. STDEV.S assumes that its arguments are a sample of the population and contains (n-1) in the formula denominator, while STDEV.P is used if the data represents the entire population, and has a denominator of just n <span style='color:yellow'> [1 MOhelp] </span>. Why the difference in the formulae? My first thought is that if n is very large, surely the difference between these two functions is negligible, so why would it matter which one you use? However, If n is small I can see how it might make a difference to the calculated standard deviation. Lets explain some of the terms. I'll try to keep this task short :)"
   ]
  },
  {
   "cell_type": "markdown",
   "metadata": {},
   "source": [
    "### Standard deviation\n",
    "The standard deviation measures the variation or spread is a set of numbers/values <span style='color:yellow'> [2 wikiSD] </span>. If the standard deviation is small, the numbers tend to cluster around the mean or average value. If it is large, the numbers are much more spread out, with some being very far away from the average value. \n",
    "\n",
    "The formula for the standard deviation of a set of numbers is:\n",
    "$$\\sigma = blah$$\n",
    "where ..explain each symbol.\n",
    "\n",
    "Best to illustrate this with a plot. We have already imported NumPy and Matplotlib for task 2 so don't need to again."
   ]
  },
  {
   "cell_type": "code",
   "execution_count": 11,
   "metadata": {},
   "outputs": [
    {
     "name": "stderr",
     "output_type": "stream",
     "text": [
      "No handles with labels found to put in legend.\n"
     ]
    },
    {
     "data": {
      "image/png": "[encoded data removed]",
      "text/plain": [
       "<Figure size 720x576 with 1 Axes>"
      ]
     },
     "metadata": {
      "needs_background": "light"
     },
     "output_type": "display_data"
    }
   ],
   "source": [
    "# Taken directly from:\n",
    "# https://numpy.org/doc/stable/reference/random/generated/numpy.random.normal.html\n",
    "\n",
    "#  Set mean and standard deviation values\n",
    "mu, sigma1, sigma2 = 0, 0.1, 0.05\n",
    "\n",
    "# Draw a sample form a normal distribution with sd = sigma1\n",
    "s = np.random.normal(mu, sigma1, 1000)\n",
    "\n",
    "# Plot a histogram of this sample\n",
    "count, bins, ignored = plt.hist(s, 30, density=True, color='r', alpha=0.5)\n",
    "\n",
    "# Now plot the probability density function for a normal distribution sd = sigma1\n",
    "# This is a population, from which samples can be drawn\n",
    "plt.plot(bins, 1/(sigma1 * np.sqrt(2 * np.pi)) * np.exp( - (bins - mu)**2 / (2 * sigma1**2) ), linewidth=2, color='r')\n",
    "\n",
    "# Draw a sample form a normal distribution with sd = sigma2\n",
    "s2 = np.random.normal(mu, sigma2, 1000)\n",
    "\n",
    "# Plot a histogram of this sample\n",
    "count, bins, ignored = plt.hist(s2, 30, density=True, color='b', alpha=0.3)\n",
    "\n",
    "# Now plot the probability density function for a normal distribution with different sd = sigma2\n",
    "plt.plot(bins, 1/(sigma2 * np.sqrt(2 * np.pi)) * np.exp( - (bins - mu)**2 / (2 * sigma2**2) ), linewidth=2, color='b')\n",
    "plt.grid()\n",
    "plt.legend()\n",
    "plt.show()"
   ]
  },
  {
   "cell_type": "markdown",
   "metadata": {},
   "source": [
    "What does this mean? The blue curve represents a population with a mean of ..a and standard deviation of X. The red curve represents another population with the same average value, but a larger standard deviation. Note how ... red curve more spread out than blue.... have alluded to samples and populations above, but what do we mean?"
   ]
  },
  {
   "cell_type": "markdown",
   "metadata": {},
   "source": [
    "### Population"
   ]
  },
  {
   "cell_type": "markdown",
   "metadata": {},
   "source": [
    "### Sample"
   ]
  },
  {
   "cell_type": "markdown",
   "metadata": {},
   "source": [
    "### References for Task 3\n",
    "<span style='color:yellow'> [1 MOhelp] </span> STDEV.S function, Microsoft Office Support, https://support.microsoft.com/en-us/office/stdev-s-function-7d69cf97-0c1f-4acf-be27-f3e83904cc23#:~:text=Remarks-,STDEV.,P. (Accessed 19 Nov. 2020).\n",
    "\n",
    "<span style='color:yellow'> [2 wikiSD] </span> Wikipedia, Standard deviation, https://en.wikipedia.org/wiki/Standard_deviation (Accessed 19 Nov. 2020).\n",
    "\n",
    "<span style='color:yellow'> [3 scribbr] </span> Population vs sample: what’s the difference?, Scribbr, https://www.scribbr.com/methodology/population-vs-sample/#:~:text=A%20population%20is%20the%20entire,total%20size%20of%20the%20population. (Accessed 19 Nov. 2020).\n",
    "\n",
    "<span style='color:yellow'> [4 thought] </span> Differences Between Population and Sample Standard Deviations, ThoughtCo., https://www.thoughtco.com/population-vs-sample-standard-deviations-3126372#:~:text=A%20sample%20standard%20deviation%20is,than%20that%20of%20the%20population. (Accessed 19 Nov. 2020).\n",
    "\n",
    "<span style='color:yellow'> [5] </span>\n",
    "\n",
    "<span style='color:yellow'> [6] </span>\n",
    "\n",
    "<span style='color:yellow'> [7] </span>"
   ]
  },
  {
   "cell_type": "markdown",
   "metadata": {},
   "source": [
    "To do:\n",
    "- legend in plot\n",
    "- formulae for sd\n",
    "- explain pop\n",
    "- explain sample\n",
    "- why one vs the other?\n",
    "- numpy illustrate"
   ]
  },
  {
   "cell_type": "code",
   "execution_count": null,
   "metadata": {},
   "outputs": [],
   "source": []
  }
 ],
 "metadata": {
  "kernelspec": {
   "display_name": "Python 3",
   "language": "python",
   "name": "python3"
  },
  "language_info": {
   "codemirror_mode": {
    "name": "ipython",
    "version": 3
   },
   "file_extension": ".py",
   "mimetype": "text/x-python",
   "name": "python",
   "nbconvert_exporter": "python",
   "pygments_lexer": "ipython3",
   "version": "3.8.3"
  }
 },
 "nbformat": 4,
 "nbformat_minor": 4
}
