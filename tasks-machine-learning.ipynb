{
 "cells": [
  {
   "cell_type": "markdown",
   "metadata": {},
   "source": [
    "## Elizabeth Daly HDip Data Analytics 2020\n",
    "\n",
    "### Machine Learning & Statistics Tasks\n",
    "***"
   ]
  },
  {
   "cell_type": "markdown",
   "metadata": {},
   "source": [
    "## 1: Function to calculate the square root of 2 to 100 decimal places "
   ]
  },
  {
   "cell_type": "markdown",
   "metadata": {},
   "source": [
    "Some write up goes here"
   ]
  },
  {
   "cell_type": "code",
   "execution_count": 11,
   "metadata": {},
   "outputs": [],
   "source": [
    "def sqrt2(a = 0.000001):\n",
    "    \"\"\"\n",
    "    A function to calculate the square root of 2 to a desired accuracy a\n",
    "    using Newton's method\n",
    "    \"\"\"\n",
    "    # We are looking for the square root of 2.\n",
    "    x = 2\n",
    "    # Provide an initial guess, s, for the square root of 2.\n",
    "    s = x / 2\n",
    "    # set iteration count = 0\n",
    "    iter = 0\n",
    "    # Loop until desired accuracy reached.\n",
    "    # i.e. Loop if |x-s*s| > required accuracy\n",
    "    while abs(x - (s * s)) > a:\n",
    "        # Now calculate a better guess for the square root of 2.\n",
    "        s -= (s*s - x) / (2 * s)\n",
    "        # Keep track of number of iterations required to meet desired accuracy.\n",
    "        iter += 1\n",
    "        # print(iter)\n",
    "    # Return the (approximate) square root of 2.\n",
    "    return s, iter"
   ]
  },
  {
   "cell_type": "code",
   "execution_count": 12,
   "metadata": {},
   "outputs": [
    {
     "data": {
      "text/plain": [
       "(1.4142135623746899, 4)"
      ]
     },
     "execution_count": 12,
     "metadata": {},
     "output_type": "execute_result"
    }
   ],
   "source": [
    "sqrt2()"
   ]
  },
  {
   "cell_type": "markdown",
   "metadata": {},
   "source": [
    "Compare this answer to what the Python math module gives"
   ]
  },
  {
   "cell_type": "code",
   "execution_count": 14,
   "metadata": {},
   "outputs": [
    {
     "name": "stdout",
     "output_type": "stream",
     "text": [
      "1.4142135623730951\n"
     ]
    }
   ],
   "source": [
    "# import the math module  \n",
    "import math  \n",
    "  \n",
    "# print the square root of  0  \n",
    "print(math.sqrt(2))  "
   ]
  },
  {
   "cell_type": "markdown",
   "metadata": {},
   "source": [
    "### References for Task 1\n",
    "[1] Methods of computing square roots; Wikipedia; https://en.wikipedia.org/wiki/Methods_of_computing_square_roots\n",
    "\n",
    "[2] Exercise: Loops and Functions: A Tour of Go; https://tour.golang.org/flowcontrol/8\n",
    "\n",
    "[3] how can i show an irrational number to 100 decimal places in python?; Stack Overflow;\n",
    "https://stackoverflow.com/questions/4733173/how-can-i-show-an-irrational-number-to-100-decimal-places-in-python\n",
    "\n",
    "[4] Floating Point Arithmetic: Issues and Limitations; The Python Tutorial; https://docs.python.org/3/tutorial/floatingpoint.html\n",
    "\n",
    "[5] Newton's Method; Mathematical Python; https://www.math.ubc.ca/~pwalls/math-python/roots-optimization/newton/"
   ]
  },
  {
   "cell_type": "markdown",
   "metadata": {},
   "source": [
    "To do:\n",
    "- write explanation\n",
    "- sync refs\n",
    "- count iters\n",
    "- 100 dec places?\n",
    "- compare with math fn"
   ]
  },
  {
   "cell_type": "code",
   "execution_count": null,
   "metadata": {},
   "outputs": [],
   "source": []
  }
 ],
 "metadata": {
  "kernelspec": {
   "display_name": "Python 3",
   "language": "python",
   "name": "python3"
  },
  "language_info": {
   "codemirror_mode": {
    "name": "ipython",
    "version": 3
   },
   "file_extension": ".py",
   "mimetype": "text/x-python",
   "name": "python",
   "nbconvert_exporter": "python",
   "pygments_lexer": "ipython3",
   "version": "3.8.3"
  }
 },
 "nbformat": 4,
 "nbformat_minor": 4
}
